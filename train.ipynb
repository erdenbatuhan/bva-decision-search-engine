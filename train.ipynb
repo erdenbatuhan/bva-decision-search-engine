{
 "cells": [
  {
   "cell_type": "markdown",
   "metadata": {},
   "source": [
    "# Step 0: Input Preparation"
   ]
  },
  {
   "cell_type": "code",
   "execution_count": 1,
   "metadata": {},
   "outputs": [],
   "source": [
    "import numpy as np\n",
    "import pandas as pd\n",
    "import matplotlib.pyplot as plt\n",
    "\n",
    "from src.utils.sys_utils import create_dir\n",
    "\n",
    "# Constants\n",
    "ANNOTATIONS_FILEPATH = \"./data/ldsi_w21_curated_annotations_v2.json\"\n",
    "UNLABELED_DATA_DIR = \"./data/unlabeled/\"\n",
    "\n",
    "OUT_DIR = \"./out/\"\n",
    "GENERATED_TOKENS_FOR_EMBEDDINGS_FILEPATH = OUT_DIR + \"_generated_tokens_for_embeddings.txt\"\n",
    "EMBEDDINGS_MODEL_FILEPATH = OUT_DIR + \"_embeddings_model.bin\"\n",
    "\n",
    "# Create the out directory\n",
    "create_dir(OUT_DIR)"
   ]
  },
  {
   "cell_type": "markdown",
   "metadata": {},
   "source": [
    "# Step 1: Dataset Splitting"
   ]
  },
  {
   "cell_type": "code",
   "execution_count": 2,
   "metadata": {},
   "outputs": [
    {
     "name": "stdout",
     "output_type": "stream",
     "text": [
      "Log (2022-03-04 13:25:40.421333): Loading the labeled data..\n",
      "Log (2022-03-04 13:25:40.509886): 540 documents loaded, 141 of which are annotated!\n",
      "Log (2022-03-04 13:25:40.512596): Loading the unlabeled data..\n"
     ]
    },
    {
     "name": "stderr",
     "output_type": "stream",
     "text": [
      "100%|██████████| 30000/30000 [00:08<00:00, 3727.10it/s]"
     ]
    },
    {
     "name": "stdout",
     "output_type": "stream",
     "text": [
      "Log (2022-03-04 13:25:48.749694): 30000 unlabeled documents loaded!\n",
      "===========================================================================\n",
      "Corpus summary:\n",
      "===========================================================================\n",
      "Validation set: ['61aea57097ad59b4cfc41361', '61aea57097ad59b4cfc41358', '61aea57097ad59b4cfc4135a', '61aea55e97ad59b4cfc412fb', '61aea55d97ad59b4cfc412bc', '61aea55c97ad59b4cfc412a1', '61aea57497ad59b4cfc413e1', '61aea55e97ad59b4cfc412f0', '61aea57497ad59b4cfc413bd', '61aea57497ad59b4cfc413e8', '61aea55f97ad59b4cfc41307', '61aea55c97ad59b4cfc4129f', '61aea55e97ad59b4cfc412ea', '61aea57497ad59b4cfc413c9']\n",
      "Test set: ['61aea55d97ad59b4cfc412cd', '61aea55e97ad59b4cfc412da', '61aea57497ad59b4cfc413ea', '61aea57397ad59b4cfc4139c', '61aea57497ad59b4cfc413e0', '61aea57497ad59b4cfc413e7', '61aea57497ad59b4cfc413af', '61aea55f97ad59b4cfc41319', '61aea55c97ad59b4cfc412ac', '61aea57497ad59b4cfc413d1', '61aea55e97ad59b4cfc412df', '61aea55e97ad59b4cfc412ee', '61aea55c97ad59b4cfc41290', '61aea57097ad59b4cfc41367']\n",
      "===========================================================================\n"
     ]
    },
    {
     "name": "stderr",
     "output_type": "stream",
     "text": [
      "\n"
     ]
    }
   ],
   "source": [
    "from src.corpus import Corpus\n",
    "\n",
    "# Initialize the Corpus\n",
    "corpus = Corpus(ANNOTATIONS_FILEPATH, UNLABELED_DATA_DIR)\n",
    "print(corpus)"
   ]
  },
  {
   "cell_type": "markdown",
   "metadata": {},
   "source": [
    "# Step 2: Sentence Segmentation"
   ]
  },
  {
   "cell_type": "code",
   "execution_count": 3,
   "metadata": {
    "scrolled": true
   },
   "outputs": [],
   "source": [
    "from src.segmentation.spacy_segmenter import SpacySegmenter\n",
    "from src.segmentation.luima_law_segmenter import LuimaLawSegmenter\n",
    "\n",
    "# Initialize the segmenters\n",
    "segmenters = {\n",
    "    # Step 2.1: Standard segmentation analysis\n",
    "    \"NaiveSpacySegmenter\": SpacySegmenter(corpus=corpus),\n",
    "    # Step 2.2: Improved segmentation analysis\n",
    "    \"ImprovedSpacySegmenter\": SpacySegmenter(corpus=corpus, improved=True),\n",
    "    # Step 2.3: A law-specific sentence segmenter analysis (Luima)\n",
    "    \"LuimaLawSegmenter\": LuimaLawSegmenter(corpus=corpus)\n",
    "}"
   ]
  },
  {
   "cell_type": "markdown",
   "metadata": {},
   "source": [
    "## Step 2.1: Standard segmentation analysis"
   ]
  },
  {
   "cell_type": "code",
   "execution_count": null,
   "metadata": {},
   "outputs": [],
   "source": [
    "segmenters[\"NaiveSpacySegmenter\"].apply_segmentation(annotated=True, debug=True)"
   ]
  },
  {
   "cell_type": "markdown",
   "metadata": {},
   "source": [
    "## Step 2.2: Improved segmentation analysis"
   ]
  },
  {
   "cell_type": "code",
   "execution_count": null,
   "metadata": {},
   "outputs": [],
   "source": [
    "segmenters[\"ImprovedSpacySegmenter\"].apply_segmentation(annotated=True, debug=True)"
   ]
  },
  {
   "cell_type": "markdown",
   "metadata": {},
   "source": [
    "## Step 2.3: A law-specific sentence segmenter analysis (Luima)"
   ]
  },
  {
   "cell_type": "code",
   "execution_count": null,
   "metadata": {
    "scrolled": true
   },
   "outputs": [],
   "source": [
    "segmenters[\"LuimaLawSegmenter\"].apply_segmentation(annotated=True, debug=True)"
   ]
  },
  {
   "cell_type": "markdown",
   "metadata": {},
   "source": [
    "### Step 2.3.1: Relaxed error analysis for Luima segmentation by comparing only the start indices (not the end indices) of the splits"
   ]
  },
  {
   "cell_type": "code",
   "execution_count": null,
   "metadata": {},
   "outputs": [],
   "source": [
    "segmenters[\"LuimaLawSegmenter\"].error_analysis_metrics[\"deep_compare\"] = False\n",
    "segmenters[\"LuimaLawSegmenter\"].apply_segmentation(annotated=True, debug=True)"
   ]
  },
  {
   "cell_type": "markdown",
   "metadata": {},
   "source": [
    "# Step 3: Preprocessing"
   ]
  },
  {
   "cell_type": "code",
   "execution_count": 4,
   "metadata": {},
   "outputs": [
    {
     "name": "stdout",
     "output_type": "stream",
     "text": [
      "Log (2022-03-04 13:25:50.632185): Loading the existing sentences generated from the unlabeled corpus..\n",
      "Log (2022-03-04 13:25:57.588229): Loaded 3360495 sentences generated from the unlabeled corpus!\n",
      "Log (2022-03-04 13:25:57.588373): Loading the existing tokens generated from the sentence-segmented decisions in the unlabeled corpus..\n",
      "Log (2022-03-04 13:26:17.886149): Loaded 59660979 tokens generated from the sentence-segmented decisions in the unlabeled corpus!\n",
      "Log (2022-03-04 13:26:17.886455): Flattening the sentences..\n",
      "Log (2022-03-04 13:26:17.968381): Randomizing the sentences..\n",
      "Log (2022-03-04 13:26:21.483947): Writing tokens to a file each line of which consists of a sentence's tokens, separated by a single whitespace..\n"
     ]
    },
    {
     "name": "stderr",
     "output_type": "stream",
     "text": [
      "100%|██████████| 3360495/3360495 [00:05<00:00, 670668.19it/s]\n"
     ]
    },
    {
     "name": "stdout",
     "output_type": "stream",
     "text": [
      "Log (2022-03-04 13:26:28.988312): Tokens generated from 2677682 of 3360495 sentences successfully written to ./out/_generated_tokens_for_embeddings.txt!\n",
      "59660979 tokens generated from 3360495 sentences\n"
     ]
    }
   ],
   "source": [
    "from src.tokenizer import Tokenizer\n",
    "\n",
    "# Initialize the tokenizer\n",
    "tokenizer = Tokenizer(segmenters)\n",
    "\n",
    "# Generate or load sentences and tokens\n",
    "# sentences, tokens = tokenizer.generate_unlabeled()  # Takes about 4 to 6 hours..\n",
    "sentences_by_document, tokens_by_document = tokenizer.load_unlabeled()\n",
    "\n",
    "# Write the tokens to a file to be used as an input to embedding computations\n",
    "tokenizer.write_tokens_to_file_for_embeddings(sentences_by_document, tokens_by_document,\n",
    "                                                        filepath=GENERATED_TOKENS_FOR_EMBEDDINGS_FILEPATH)\n",
    "\n",
    "# Sanity check\n",
    "assert len(sentences_by_document) == len(tokens_by_document)\n",
    "\n",
    "print(\"%d tokens generated from %d sentences\" % (\n",
    "    tokenizer.count_tokens(tokens_by_document),\n",
    "    tokenizer.count_sentences(sentences_by_document)\n",
    "))"
   ]
  },
  {
   "cell_type": "markdown",
   "metadata": {},
   "source": [
    "## Step 3.1: Analyze sentences"
   ]
  },
  {
   "cell_type": "code",
   "execution_count": 5,
   "metadata": {},
   "outputs": [
    {
     "name": "stdout",
     "output_type": "stream",
     "text": [
      "Number of sentences in documents:\n",
      "Max = 974\n",
      "Average = 112\n"
     ]
    },
    {
     "data": {
      "image/png": "[encoded data removed]",
      "text/plain": [
       "<Figure size 432x288 with 1 Axes>"
      ]
     },
     "metadata": {
      "needs_background": "light"
     },
     "output_type": "display_data"
    }
   ],
   "source": [
    "num_sentences_per_document = [len(sentences) for sentences in sentences_by_document.values()]\n",
    "\n",
    "print(\"Number of sentences in documents:\\nMax = %d\\nAverage = %d\" % (\n",
    "    np.max(num_sentences_per_document), \n",
    "    np.mean(num_sentences_per_document)\n",
    "))\n",
    "\n",
    "plt.hist(num_sentences_per_document, bins=50)\n",
    "plt.show()"
   ]
  },
  {
   "cell_type": "markdown",
   "metadata": {},
   "source": [
    "## Step 3.2: Analyze tokens"
   ]
  },
  {
   "cell_type": "code",
   "execution_count": 6,
   "metadata": {},
   "outputs": [
    {
     "name": "stdout",
     "output_type": "stream",
     "text": [
      "Number of tokens in sentences:\n",
      "Max = 20907\n",
      "Average = 1988\n"
     ]
    },
    {
     "data": {
      "image/png": "[encoded data removed]",
      "text/plain": [
       "<Figure size 432x288 with 1 Axes>"
      ]
     },
     "metadata": {
      "needs_background": "light"
     },
     "output_type": "display_data"
    }
   ],
   "source": [
    "num_tokens_per_sentence = [\n",
    "    sum([len(sentence_tokens) for sentence_tokens in sentences_with_tokens])\n",
    "    for sentences_with_tokens in tokens_by_document.values()\n",
    "]\n",
    "\n",
    "print(\"Number of tokens in sentences:\\nMax = %d\\nAverage = %d\" % (\n",
    "    np.max(num_tokens_per_sentence), \n",
    "    np.mean(num_tokens_per_sentence)\n",
    "))\n",
    "\n",
    "plt.hist(num_tokens_per_sentence, bins=50)\n",
    "plt.show()"
   ]
  },
  {
   "cell_type": "code",
   "execution_count": 7,
   "metadata": {},
   "outputs": [
    {
     "data": {
      "image/png": "[encoded data removed]",
      "text/plain": [
       "<Figure size 432x288 with 1 Axes>"
      ]
     },
     "metadata": {
      "needs_background": "light"
     },
     "output_type": "display_data"
    }
   ],
   "source": [
    "# Calculate token counts\n",
    "token_counts = {}\n",
    "for sentences_with_tokens in tokens_by_document.values():\n",
    "    for sentence_tokens in sentences_with_tokens:\n",
    "        for token in sentence_tokens:\n",
    "            if token not in token_counts:\n",
    "                token_counts[token] = 0\n",
    "            \n",
    "            token_counts[token] += 1\n",
    "\n",
    "# Create token counts dataframe\n",
    "token_counts_df = pd.DataFrame([{\"token\": token, \"count\": count} for (token, count) in token_counts.items()])\n",
    "token_counts_df = token_counts_df.set_index([\"token\"])\n",
    "\n",
    "# Plot token counts dataframe\n",
    "token_counts_df.sort_values(\"count\", ascending=False)[:25].plot.bar()\n",
    "plt.show()"
   ]
  },
  {
   "cell_type": "markdown",
   "metadata": {},
   "source": [
    "## Step 3.1: Free unused memory"
   ]
  },
  {
   "cell_type": "code",
   "execution_count": 8,
   "metadata": {},
   "outputs": [],
   "source": [
    "del corpus.unlabeled_data\n",
    "del sentences_by_document, tokens_by_document\n",
    "del token_counts, token_counts_df"
   ]
  },
  {
   "cell_type": "markdown",
   "metadata": {},
   "source": [
    "# Step 4: Developing Word Embeddings"
   ]
  },
  {
   "cell_type": "markdown",
   "metadata": {},
   "source": [
    "## Step 4.1: Train a FastText Embeddings model"
   ]
  },
  {
   "cell_type": "code",
   "execution_count": 9,
   "metadata": {},
   "outputs": [
    {
     "name": "stdout",
     "output_type": "stream",
     "text": [
      "Log (2022-03-04 13:26:56.499421): The embeddings model is being loaded..\n",
      "Log (2022-03-04 13:26:57.485225): The embeddings model is successfully loaded!\n",
      "Vocabulary size: 23386 words and 23386 labels\n"
     ]
    },
    {
     "name": "stderr",
     "output_type": "stream",
     "text": [
      "Warning : `load_model` does not return WordVectorModel or SupervisedModel any more, but a `FastText` object which is very similar.\n"
     ]
    }
   ],
   "source": [
    "from src.embeddings import Embeddings\n",
    "\n",
    "# Initialize an embeddings model\n",
    "embeddings = Embeddings(model_filepath=EMBEDDINGS_MODEL_FILEPATH)\n",
    "\n",
    "# Train the model\n",
    "# embeddings.train(tokens_filepath=GENERATED_TOKENS_FOR_EMBEDDINGS_FILEPATH)\n",
    "\n",
    "# Log the results\n",
    "print(\"Vocabulary size: %d words and %d labels\" % (len(embeddings.model.words), len(embeddings.model.labels)))"
   ]
  },
  {
   "cell_type": "code",
   "execution_count": 36,
   "metadata": {},
   "outputs": [
    {
     "data": {
      "text/plain": [
       "'Shape of the embeddings model: (23386, 100)'"
      ]
     },
     "execution_count": 36,
     "metadata": {},
     "output_type": "execute_result"
    }
   ],
   "source": [
    "\"Shape of the embeddings model: (%d, %d)\" % (np.shape(embeddings.model.words)[0], embeddings.model.get_dimension())"
   ]
  },
  {
   "cell_type": "markdown",
   "metadata": {},
   "source": [
    "## Step 4.2: Evaluating Embeddings via Nearest Neighbors"
   ]
  },
  {
   "cell_type": "code",
   "execution_count": 37,
   "metadata": {},
   "outputs": [
    {
     "data": {
      "text/plain": [
       "{'veteran': [(0.7084043025970459, 'his'),\n",
       "  (0.6972131133079529, 'the'),\n",
       "  (0.6539403796195984, 'he'),\n",
       "  (0.6335914731025696, 'that'),\n",
       "  (0.6326770782470703, 'appellant'),\n",
       "  (0.629713237285614, 'furthermore'),\n",
       "  (0.6203492283821106, 'have'),\n",
       "  (0.6140402555465698, 'moreover'),\n",
       "  (0.603982150554657, 'additionally'),\n",
       "  (0.5753063559532166, 'lastly')],\n",
       " 'v.': [(0.9425032734870911, 'vet.'),\n",
       "  (0.9404009580612183, 'app.'),\n",
       "  (0.8356177806854248, 'app'),\n",
       "  (0.8120343089103699, 'brown'),\n",
       "  (0.8012104630470276, 'nicholson'),\n",
       "  (0.7757154703140259, '<NUM3>'),\n",
       "  (0.7656072378158569, 'supra'),\n",
       "  (0.761705219745636, 'cf'),\n",
       "  (0.758561909198761, 'principi'),\n",
       "  (0.7404296398162842, 'cir.')],\n",
       " 'argue': [(0.7734380960464478, 'assert'),\n",
       "  (0.7622024416923523, 'contend'),\n",
       "  (0.6036292314529419, 'aver'),\n",
       "  (0.5475767850875854, 'agree'),\n",
       "  (0.5322855710983276, 'dispute'),\n",
       "  (0.531535267829895, 'believe'),\n",
       "  (0.5308288931846619, 'ihp'),\n",
       "  (0.5278782844543457, 'criticize'),\n",
       "  (0.5201026201248169, 'somehow'),\n",
       "  (0.5152552127838135, 'reiterate')],\n",
       " 'ptsd': [(0.7421578764915466, 'depressive'),\n",
       "  (0.7402408719062805, 'mdd'),\n",
       "  (0.7363696098327637, 'pstd'),\n",
       "  (0.7228817343711853, 'anxiety'),\n",
       "  (0.7174836993217468, 'psychiatric'),\n",
       "  (0.7113164663314819, 'bipolar'),\n",
       "  (0.6995742917060852, 'mst'),\n",
       "  (0.692416250705719, 'depression'),\n",
       "  (0.6849428415298462, 'dysthymia'),\n",
       "  (0.6818680167198181, 'dysthymic')],\n",
       " 'grant': [(0.7199074625968933, 'connection'),\n",
       "  (0.5807226896286011, 'entitlement'),\n",
       "  (0.5266924500465393, 'warrant'),\n",
       "  (0.524537980556488, 'establishment'),\n",
       "  (0.5136338472366333, 'incur'),\n",
       "  (0.5047657489776611, 'establish'),\n",
       "  (0.5007996559143066, 'contends'),\n",
       "  (0.48991918563842773, 'deny'),\n",
       "  (0.48350790143013, 'service'),\n",
       "  (0.4835015833377838, 'govern')],\n",
       " 'korea': [(0.7747887969017029, 'korean'),\n",
       "  (0.7700215578079224, 'dmz'),\n",
       "  (0.7667695879936218, 'germany'),\n",
       "  (0.7418777942657471, 'panama'),\n",
       "  (0.7366704940795898, 'demilitarized'),\n",
       "  (0.7356392741203308, 'station'),\n",
       "  (0.7068483829498291, 'okinawa'),\n",
       "  (0.7059348821640015, 'vietnam'),\n",
       "  (0.6922743916511536, 'overseas'),\n",
       "  (0.6688894033432007, 'thailand')],\n",
       " 'holding': [(0.6557533740997314, 'ruling'),\n",
       "  (0.6408851146697998, 'supra'),\n",
       "  (0.6102829575538635, 'clemons'),\n",
       "  (0.6031567454338074, 'dingess'),\n",
       "  (0.5857548713684082, 'hartman'),\n",
       "  (0.5745063424110413, 'kent'),\n",
       "  (0.5725604891777039, 'arneson'),\n",
       "  (0.5709389448165894, 'cavc'),\n",
       "  (0.5706118941307068, 'mandate'),\n",
       "  (0.5503026247024536, 'complie')],\n",
       " 'also': [(0.608814001083374, 'see'),\n",
       "  (0.5713422894477844, '<NUM4>'),\n",
       "  (0.5586721897125244, 'addition'),\n",
       "  (0.5516968369483948, 'that'),\n",
       "  (0.5468000769615173, 'although'),\n",
       "  (0.529024064540863, 'additionally'),\n",
       "  (0.5147954225540161, 'v.'),\n",
       "  (0.5129179358482361, '<NUM3>'),\n",
       "  (0.5085709691047668, 'f.'),\n",
       "  (0.5016624331474304, '1153(a')],\n",
       " 'judge': [(0.7976477742195129, 'acting'),\n",
       "  (0.7156776785850525, 'vlj'),\n",
       "  (0.6938406825065613, 'undersigned'),\n",
       "  (0.6874627470970154, 'undersign'),\n",
       "  (0.6812289953231812, 'preside'),\n",
       "  (0.6802811622619629, 'videoconference'),\n",
       "  (0.6499112844467163, 'conference'),\n",
       "  (0.6345817446708679, 'video'),\n",
       "  (0.6285856366157532, 'avlj'),\n",
       "  (0.6249234676361084, 'travel')],\n",
       " 'appear': [(0.5924112200737, 'apparently'),\n",
       "  (0.5784739851951599, 'seem'),\n",
       "  (0.5671000480651855, 'quite'),\n",
       "  (0.5363399386405945, 'albeit'),\n",
       "  (0.520974338054657, 'unclear'),\n",
       "  (0.5184506177902222, 'admittedly'),\n",
       "  (0.5182564854621887, 'somewhat'),\n",
       "  (0.5114937424659729, 'reflection'),\n",
       "  (0.5074225664138794, 'entirely'),\n",
       "  (0.5072139501571655, 'misunderstanding')],\n",
       " 'board': [(0.675252377986908, 'decision'),\n",
       "  (0.6485047340393066, 'the'),\n",
       "  (0.6439892053604126, 'appeal'),\n",
       "  (0.6373049020767212, 'this'),\n",
       "  (0.6320754289627075, 'matter'),\n",
       "  (0.5906791090965271, 'remand'),\n",
       "  (0.5734475255012512, 'case'),\n",
       "  (0.5526115298271179, 'ro'),\n",
       "  (0.5489904284477234, 'veterans\\x92'),\n",
       "  (0.5446348190307617, 'appeals')],\n",
       " 'evidence': [(0.5784555673599243, 'claim'),\n",
       "  (0.5456746220588684, 'medical'),\n",
       "  (0.5261164903640747, 'record'),\n",
       "  (0.519501268863678, 'the'),\n",
       "  (0.5153160691261292, 'establish'),\n",
       "  (0.5102380514144897, 'must'),\n",
       "  (0.48066985607147217, 'lie'),\n",
       "  (0.4803674817085266, 'be'),\n",
       "  (0.47886043787002563, 'submit'),\n",
       "  (0.4775588810443878, 'newly-')],\n",
       " 'claim': [(0.6002758145332336, 'file'),\n",
       "  (0.5906965136528015, 'the'),\n",
       "  (0.5784556269645691, 'evidence'),\n",
       "  (0.5723299980163574, 'connection'),\n",
       "  (0.556918203830719, 'adjudicate'),\n",
       "  (0.5524041056632996, 'must'),\n",
       "  (0.5389825701713562, 'folder'),\n",
       "  (0.5259513854980469, 'substantiate'),\n",
       "  (0.5235180258750916, 'reopen'),\n",
       "  (0.5229278206825256, 'amc/')],\n",
       " 'connection': [(0.8527682423591614, 'entitlement'),\n",
       "  (0.7199074625968933, 'grant'),\n",
       "  (0.6688293814659119, 'service'),\n",
       "  (0.6674920320510864, 'reopen'),\n",
       "  (0.6563448309898376, 'petition'),\n",
       "  (0.6245878338813782, 'disability'),\n",
       "  (0.622081458568573, 'reopening'),\n",
       "  (0.6177139282226562, 'establishment'),\n",
       "  (0.6052514314651489, 'warrant'),\n",
       "  (0.5968173146247864, 'for')],\n",
       " 'vietnam': [(0.9050664305686951, 'republic'),\n",
       "  (0.8731956481933594, 'rvn'),\n",
       "  (0.8062122464179993, 'era'),\n",
       "  (0.7383394837379456, 'country'),\n",
       "  (0.7264062166213989, 'korean'),\n",
       "  (0.7140793800354004, 'danang'),\n",
       "  (0.7059347629547119, 'korea'),\n",
       "  (0.6999199390411377, 'nam'),\n",
       "  (0.699834406375885, 'nang'),\n",
       "  (0.6895423531532288, 'thailand')],\n",
       " 'decision': [(0.7161702513694763, 'appeal'),\n",
       "  (0.6752523183822632, 'board'),\n",
       "  (0.6581201553344727, 'petition'),\n",
       "  (0.6407677531242371, 'rating'),\n",
       "  (0.6018100380897522, \"veterans'appeal\"),\n",
       "  (0.5959488153457642, 'unappealed'),\n",
       "  (0.5897044539451599, 'ro'),\n",
       "  (0.5699293613433838, 'reopening'),\n",
       "  (0.5488004088401794, 'denial'),\n",
       "  (0.5450696349143982, 'reopen')],\n",
       " 'c.f.r': [(0.7233672738075256, '3.326(a'),\n",
       "  (0.711806058883667, 'supp'),\n",
       "  (0.6900246739387512, '3.156(a'),\n",
       "  (0.686897337436676, 'c.f.r.'),\n",
       "  (0.6765038967132568, '5103a'),\n",
       "  (0.6757990121841431, '&'),\n",
       "  (0.6142055988311768, '<NUM5>'),\n",
       "  (0.6110844612121582, 'u.s.c.a.'),\n",
       "  (0.5892571806907654, '5103a(b)-(c'),\n",
       "  (0.5760379433631897, 'aug.')],\n",
       " '38': [(0.9042839407920837, 'cf.'),\n",
       "  (0.5481715202331543, 'fed.'),\n",
       "  (0.5469672679901123, 'lydall'),\n",
       "  (0.5244421362876892, 'supp'),\n",
       "  (0.5216028690338135, 'atd'),\n",
       "  (0.5168290734291077, 'cir.'),\n",
       "  (0.5090788006782532, 'f.3d'),\n",
       "  (0.5078884363174438, '101(24'),\n",
       "  (0.4856598377227783, '&'),\n",
       "  (0.48382052779197693, '3.1(d')],\n",
       " 'when': [(0.5642431974411011, 'after'),\n",
       "  (0.4967621862888336, 'where'),\n",
       "  (0.4658351242542267, 'be'),\n",
       "  (0.44264528155326843, 'discharge'),\n",
       "  (0.44105255603790283, 'tannery'),\n",
       "  (0.4170553386211395, 'noticing'),\n",
       "  (0.4100744426250458, 'leprosy'),\n",
       "  (0.4076467454433441, 'accidently'),\n",
       "  (0.40722712874412537, 'initially'),\n",
       "  (0.40612903237342834, 'tornado')]}"
      ]
     },
     "execution_count": 37,
     "metadata": {},
     "output_type": "execute_result"
    }
   ],
   "source": [
    "embeddings.get_nearest_neighbors([\n",
    "    # Words recommended by the Professor\n",
    "    \"veteran\", \"v.\", \"argue\", \"ptsd\", \"grant\", \"korea\", \"holding\", \"also\",\n",
    "    # Additional words of interest\n",
    "    \"judge\", \"appear\", \"board\", \"evidence\", \"claim\", \"connection\",\n",
    "    \"vietnam\", \"decision\", \"c.f.r\", \"38\", \"when\"\n",
    "])"
   ]
  },
  {
   "cell_type": "markdown",
   "metadata": {},
   "source": [
    "# Step 5: Training Classifiers"
   ]
  },
  {
   "cell_type": "code",
   "execution_count": 44,
   "metadata": {},
   "outputs": [
    {
     "name": "stdout",
     "output_type": "stream",
     "text": [
      "Log (2022-03-04 13:45:25.528368): Adding tokens to the train spans..\n"
     ]
    },
    {
     "name": "stderr",
     "output_type": "stream",
     "text": [
      "100%|██████████| 12336/12336 [01:32<00:00, 132.85it/s]\n"
     ]
    },
    {
     "name": "stdout",
     "output_type": "stream",
     "text": [
      "Log (2022-03-04 13:46:58.393040): Tokens successfully added to the train spans..\n",
      "Log (2022-03-04 13:46:58.393066): Adding tokens to the val spans..\n"
     ]
    },
    {
     "name": "stderr",
     "output_type": "stream",
     "text": [
      "100%|██████████| 1422/1422 [00:10<00:00, 132.55it/s]\n"
     ]
    },
    {
     "name": "stdout",
     "output_type": "stream",
     "text": [
      "Log (2022-03-04 13:47:09.122685): Tokens successfully added to the val spans..\n",
      "Log (2022-03-04 13:47:09.122726): Adding tokens to the test spans..\n"
     ]
    },
    {
     "name": "stderr",
     "output_type": "stream",
     "text": [
      "100%|██████████| 1591/1591 [00:11<00:00, 134.23it/s]\n"
     ]
    },
    {
     "name": "stdout",
     "output_type": "stream",
     "text": [
      "Log (2022-03-04 13:47:20.977627): Tokens successfully added to the test spans..\n",
      "Log (2022-03-04 13:47:20.977766): Vectorizing the training data..\n",
      "Log (2022-03-04 13:48:51.164393): The training data successfully vectorized!\n"
     ]
    },
    {
     "ename": "TypeError",
     "evalue": "__str__ returned non-string (type list)",
     "output_type": "error",
     "traceback": [
      "\u001b[0;31m---------------------------------------------------------------------------\u001b[0m",
      "\u001b[0;31mTypeError\u001b[0m                                 Traceback (most recent call last)",
      "\u001b[0;32m<ipython-input-44-6931b1b6ac63>\u001b[0m in \u001b[0;36m<module>\u001b[0;34m\u001b[0m\n\u001b[1;32m     10\u001b[0m \u001b[0;34m\u001b[0m\u001b[0m\n\u001b[1;32m     11\u001b[0m \u001b[0;31m# Prints the feature names\u001b[0m\u001b[0;34m\u001b[0m\u001b[0;34m\u001b[0m\u001b[0;34m\u001b[0m\u001b[0m\n\u001b[0;32m---> 12\u001b[0;31m \u001b[0mprint\u001b[0m\u001b[0;34m(\u001b[0m\u001b[0mfeature_generator\u001b[0m\u001b[0;34m)\u001b[0m\u001b[0;34m\u001b[0m\u001b[0;34m\u001b[0m\u001b[0m\n\u001b[0m",
      "\u001b[0;31mTypeError\u001b[0m: __str__ returned non-string (type list)"
     ]
    }
   ],
   "source": [
    "from src.feature_generator import FeatureGenerator\n",
    "\n",
    "X = {\"NaiveTFIDFFeaturizer\": None, \"WordEmbeddingFeaturizer\": None}\n",
    "y = {\"NaiveTFIDFFeaturizer\": None, \"WordEmbeddingFeaturizer\": None}\n",
    "\n",
    "# Create the feature generator\n",
    "feature_generator = FeatureGenerator(corpus, tokenization_segmenter=segmenters[\"ImprovedSpacySegmenter\"],\n",
    "                                     embeddings_model=embeddings.model)\n",
    "feature_generator.vectorize()\n",
    "\n",
    "# Prints the feature names\n",
    "print(feature_generator)"
   ]
  },
  {
   "cell_type": "markdown",
   "metadata": {},
   "source": [
    "## Step 5.1: TFIDF Featurization"
   ]
  },
  {
   "cell_type": "code",
   "execution_count": null,
   "metadata": {},
   "outputs": [],
   "source": [
    "X[\"NaiveTFIDFFeaturizer\"], y[\"NaiveTFIDFFeaturizer\"] = feature_generator.create_inputs_and_labels()"
   ]
  },
  {
   "cell_type": "markdown",
   "metadata": {},
   "source": [
    "## Step 5.2: Word Embedding Featurization"
   ]
  },
  {
   "cell_type": "code",
   "execution_count": null,
   "metadata": {},
   "outputs": [],
   "source": [
    "X[\"WordEmbeddingFeaturizer\"], y[\"WordEmbeddingFeaturizer\"] = create_inputs_and_labels(\n",
    "    feature_vector_expanded=True)"
   ]
  },
  {
   "cell_type": "markdown",
   "metadata": {},
   "source": [
    "## Step 5.3: Model Training"
   ]
  },
  {
   "cell_type": "code",
   "execution_count": null,
   "metadata": {},
   "outputs": [],
   "source": [
    "for featurizer_name in X:\n",
    "    print(\"%s:\" % featurizer_name)\n",
    "\n",
    "    for dataset_type in X[featurizer_name]:\n",
    "        print(\"- The shapes of X_%s and y_%s are (%d, %d) and (%d, %d) respectively.\" % (\n",
    "            featurizer_name, dataset_type, dataset_type,\n",
    "            X[featurizer_name][dataset_type].shape,\n",
    "            y[featurizer_name][dataset_type].shape\n",
    "        ))\n",
    "\n",
    "    print()"
   ]
  },
  {
   "cell_type": "markdown",
   "metadata": {},
   "source": [
    "# Step 6: Error Analysis"
   ]
  },
  {
   "cell_type": "code",
   "execution_count": null,
   "metadata": {},
   "outputs": [],
   "source": []
  }
 ],
 "metadata": {
  "kernelspec": {
   "display_name": "Python 3",
   "language": "python",
   "name": "python3"
  },
  "language_info": {
   "codemirror_mode": {
    "name": "ipython",
    "version": 3
   },
   "file_extension": ".py",
   "mimetype": "text/x-python",
   "name": "python",
   "nbconvert_exporter": "python",
   "pygments_lexer": "ipython3",
   "version": "3.6.13"
  }
 },
 "nbformat": 4,
 "nbformat_minor": 4
}
